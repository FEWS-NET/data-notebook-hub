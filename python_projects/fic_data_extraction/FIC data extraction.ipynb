{
 "cells": [
  {
   "cell_type": "code",
   "execution_count": null,
   "id": "02233da8-0940-439f-9a65-df56a817cba4",
   "metadata": {},
   "outputs": [],
   "source": [
    "import pandas as pd\n",
    "import geopandas as gpd\n",
    "import os"
   ]
  },
  {
   "cell_type": "markdown",
   "id": "48138eff-81b3-4930-ab81-15df21ce66bc",
   "metadata": {},
   "source": [
    "### Goal - get Food Insecurity Classification units with spatial data"
   ]
  },
  {
   "cell_type": "markdown",
   "id": "6ed80882-b056-48e6-90ab-48f7ae8a628a",
   "metadata": {},
   "source": [
    "## Step 1: Spatial Data Extraction\n",
    "It is recommended to extract spatial data separately to reduce the downloaded file size"
   ]
  },
  {
   "cell_type": "code",
   "execution_count": null,
   "id": "7a75afe7-140a-4d80-86ae-7ebfff45473a",
   "metadata": {},
   "outputs": [],
   "source": [
    "# Setup base url for all queries\n",
    "base_url = \"https://fdw.fews.net\""
   ]
  },
  {
   "cell_type": "code",
   "execution_count": null,
   "id": "9832ee4f-933b-48e2-af62-f074f0ef6371",
   "metadata": {},
   "outputs": [],
   "source": [
    "# Go to https://fdw.fews.net/data-explorer/spatial?unit_type=fsc_admin%2Cfsc_admin_lhz%2Cfsc_lhz%2Cfsc_rm_admin\n",
    "# then select all units (checkbox next to the Country table header)\n",
    "# then select 'geojson' format at the bottom and click on the API link to copy the link.\n",
    "# Currently FDE does not include IDP camps into FCS units, adding it manually.\n",
    "# spatial_url variable is already populated with the result of the actions above.\n",
    "\n",
    "spatial_url = \"/api/feature/?format=geojson&unit_type=fsc_admin&unit_type=fsc_admin_lhz&unit_type=fsc_lhz&unit_type=fsc_rm_admin&unit_type=idp_camp\""
   ]
  },
  {
   "cell_type": "code",
   "execution_count": null,
   "id": "714e11cc-f00e-4fd1-a4ab-c730bf6c5675",
   "metadata": {},
   "outputs": [],
   "source": [
    "# Create a geodataframe of all available FIC units over all time periods\n",
    "# Takes around 60-90 seconds to read\n",
    "spatial_dataframe = gpd.read_file(base_url + spatial_url)\n",
    "spatial_dataframe.head()"
   ]
  },
  {
   "cell_type": "code",
   "execution_count": null,
   "id": "78ffe250-8ca6-4fdd-a68b-c8cf6ef62bc1",
   "metadata": {},
   "outputs": [],
   "source": [
    "spatial_dataframe.info()"
   ]
  },
  {
   "cell_type": "markdown",
   "id": "7107afd9-4117-4f2b-9352-3cf26cf3c06f",
   "metadata": {},
   "source": [
    "## Step 2: Food Insecurity Data Points Extraction"
   ]
  },
  {
   "cell_type": "code",
   "execution_count": null,
   "id": "f48e710b-4854-4665-ac8b-cb8be287ee90",
   "metadata": {},
   "outputs": [],
   "source": [
    "# Go to https://fdw.fews.net/data-explorer/ipcFic?geographic_unit=902%2C904%2C905%2C903%2C901 (data might take some time to load)\n",
    "# then select 'json' format at the bottom and click on the API link to copy the link\n",
    "# paste the copied url to fic_url variable below (already populated).\n",
    "# NOTE `&fields=simple` parameter need to be removed to allow fnid field to be available.\n",
    "# NOTE selection applies 'Best available' filter that returns all historical Current Situation data\n",
    "# as well as the most recent Medium or Near Term projections if available.\n",
    "\n",
    "food_security_url = \"/api/ipcphase/?format=json&country_code=BI&country_code=DJ&country_code=ET&country_code=KE&country_code=RW&country_code=SO&country_code=SS&country_code=SD&country_code=UG&country_code=CO&country_code=SV&country_code=GT&country_code=HT&country_code=HN&country_code=NI&country_code=VE&country_code=AF&country_code=LB&country_code=YE&country_code=AO&country_code=CD&country_code=LS&country_code=MG&country_code=MW&country_code=MZ&country_code=ZM&country_code=ZW&country_code=BF&country_code=CM&country_code=CF&country_code=TD&country_code=LR&country_code=ML&country_code=MR&country_code=NE&country_code=NG&country_code=SL&country_code=TG&preference=best\"\n"
   ]
  },
  {
   "cell_type": "code",
   "execution_count": null,
   "id": "b347613f-15c0-4eca-8075-5c1df9ae8b99",
   "metadata": {},
   "outputs": [],
   "source": [
    "# Create a dataframe of all available FIC data over all time periods\n",
    "# Takes around 30 seconds to read\n",
    "fic_dataframe = pd.read_json(base_url + food_security_url)\n",
    "fic_dataframe.head()"
   ]
  },
  {
   "cell_type": "code",
   "execution_count": null,
   "id": "ba6101f7-cf4e-4650-b75b-52e2582f1c20",
   "metadata": {},
   "outputs": [],
   "source": [
    "fic_dataframe.info()"
   ]
  },
  {
   "cell_type": "markdown",
   "id": "906bc17c-883d-4fdc-986d-261632bbffcd",
   "metadata": {},
   "source": [
    "## Step 3: Merge Both DataFrames"
   ]
  },
  {
   "cell_type": "code",
   "execution_count": null,
   "id": "5f1aaf5c-bd78-4db7-82c5-c1dbaea24f03",
   "metadata": {},
   "outputs": [],
   "source": [
    "dataframe = spatial_dataframe[['fnid', 'full_name', 'geometry']].merge(\n",
    "    fic_dataframe, on='fnid', how='right'\n",
    ")\n",
    "dataframe.info()"
   ]
  },
  {
   "cell_type": "markdown",
   "id": "9138f690-d862-4a7c-8464-fce57dc14288",
   "metadata": {},
   "source": [
    "## Step 4: Convert data into FlatGeobuf format"
   ]
  },
  {
   "cell_type": "code",
   "execution_count": null,
   "id": "0b6d32c7-7836-48b3-b5a2-6ecc1a69b4c2",
   "metadata": {},
   "outputs": [],
   "source": [
    "# Remove not collected values and empty geometries\n",
    "# dataframe = dataframe[~dataframe['value'].isnull()].reset_index(drop=True)\n",
    "dataframe = dataframe[~dataframe['geometry'].isnull()].reset_index(drop=True)"
   ]
  },
  {
   "cell_type": "code",
   "execution_count": null,
   "id": "b88ff45d-2243-4775-aa16-5196795d8c78",
   "metadata": {},
   "outputs": [],
   "source": [
    "# Ensure the crs is correct\n",
    "fgb_dataframe = dataframe.set_crs(4326)\n",
    "\n",
    "# Define columns that will be stored in the fgb file\n",
    "columns = ['fnid', 'full_name', 'geometry', 'source_organization',\n",
    "       'source_document', 'country', 'country_code', 'geographic_group',\n",
    "       'fewsnet_region', 'unit_type', 'classification_scale', 'scenario_name',\n",
    "       'preference_rating', 'is_allowing_for_assistance', 'reporting_date', 'projection_start',\n",
    "       'projection_end', 'status', 'value', 'description', 'id']"
   ]
  },
  {
   "cell_type": "code",
   "execution_count": null,
   "id": "8be5ae90-a886-4337-9b92-33746c1db417",
   "metadata": {},
   "outputs": [],
   "source": [
    "# Save files by region and collection date\n",
    "for (fewsnet_region, reporting_date), g in fgb_dataframe[columns].groupby([\"fewsnet_region\",\"reporting_date\"]):\n",
    "    out_dir = os.path.join(\"all_fic\", str(fewsnet_region))\n",
    "    os.makedirs(out_dir, exist_ok=True)\n",
    "    out_path = os.path.join(out_dir, f\"{fewsnet_region}_{reporting_date}.fgb\")\n",
    "    g.to_file(out_path, driver=\"FlatGeobuf\")"
   ]
  },
  {
   "cell_type": "code",
   "execution_count": null,
   "id": "355ec193-74be-4ad0-a3b5-0c8fac5ea92d",
   "metadata": {},
   "outputs": [],
   "source": []
  }
 ],
 "metadata": {
  "kernelspec": {
   "display_name": "Python 3 (ipykernel)",
   "language": "python",
   "name": "python3"
  },
  "language_info": {
   "codemirror_mode": {
    "name": "ipython",
    "version": 3
   },
   "file_extension": ".py",
   "mimetype": "text/x-python",
   "name": "python",
   "nbconvert_exporter": "python",
   "pygments_lexer": "ipython3",
   "version": "3.13.5"
  }
 },
 "nbformat": 4,
 "nbformat_minor": 5
}
